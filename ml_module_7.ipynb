{
  "nbformat": 4,
  "nbformat_minor": 0,
  "metadata": {
    "colab": {
      "provenance": []
    },
    "kernelspec": {
      "name": "python3",
      "display_name": "Python 3"
    },
    "language_info": {
      "name": "python"
    }
  },
  "cells": [
    {
      "cell_type": "markdown",
      "source": [
        "Theoretical"
      ],
      "metadata": {
        "id": "7vxKOodPp0F_"
      }
    },
    {
      "cell_type": "code",
      "source": [
        "# Q1.What is a Decision Tree, and how does it work?\n",
        "Ans:-A decision tree is a supervised machine learning algorithm used for both classification and regression tasks. It works by recursively partitioning the data into subsets based on the values of different features, creating a tree-like structure.\n",
        "\n",
        "# Here's a breakdown of how it works:\n",
        "\n",
        "1. Root Node: The tree starts with a root node representing the entire dataset.\n",
        "\n",
        "2. Feature Selection: At each node, the algorithm selects the \"best\" feature to split the data based on a criterion (e.g., Gini impurity, information gain, or entropy). The goal is to create subsets that are as pure as possible (contain mostly instances of a single class).\n",
        "\n",
        "3. Splitting: The selected feature is used to split the data into branches, each representing a subset with specific values of the feature.\n",
        "\n",
        "4. Recursion: Steps 2 and 3 are repeated recursively for each branch until a stopping criterion is met. This criterion could be a maximum tree depth, a minimum number of samples in a node, or a minimum impurity decrease.\n",
        "\n",
        "5. Leaf Nodes:  The terminal nodes of the tree are called leaf nodes. Each leaf node represents a prediction. For classification, the leaf node assigns the class label that is most frequent in the subset it represents. For regression, it predicts the average value of the target variable in the subset.\n",
        "\n",
        "6. Prediction: To predict the class label or value for a new instance, the instance is passed down the tree, following the branches based on its feature values, until it reaches a leaf node. The prediction is the value associated with that leaf node.\n",
        "\n",
        "# Q2.What are impurity measures in Decision Trees?\n",
        "Ans:-Impurity measures quantify the homogeneity of a set of data points. In decision trees, they guide the selection of the best feature to split the data at each node.  A lower impurity score indicates a purer node, where most data points belong to the same class. Common impurity measures include:\n",
        "\n",
        "1. Gini Impurity: Measures the probability of incorrectly classifying a randomly chosen element if it were randomly labeled according to the class distribution in the subset. A Gini impurity of 0 indicates a perfectly pure node (all elements belong to the same class).\n",
        "\n",
        "2. Entropy: Measures the uncertainty or randomness in a set of data. An entropy of 0 indicates a perfectly pure node. Entropy is calculated using the formula:  - Σ (p_i * log2(p_i)), where p_i is the probability of an element belonging to class i.\n",
        "\n",
        "3. Classification Error:  The simplest impurity measure, representing the fraction of misclassified elements in a node.  Less frequently used because it is less sensitive to changes in class probabilities compared to Gini impurity and entropy.\n",
        "\n",
        "# Q3.What is the mathematical formula for Gini Impurity\t?\n",
        "Ans:-The formula for Gini impurity is:\n",
        "\n",
        "# Gini impurity = 1 - Σ(p_i)^2\n",
        "\n",
        "# where:\n",
        "p_i is the probability of an element belonging to class i\n",
        "The summation is over all classes present in the subset.\n",
        "\n",
        "# Q4.What is the mathematical formula for Entropy?\n",
        "Ans:-The formula for entropy is:\n",
        "\n",
        "**H(S) = - Σ (p_i * log₂(p_i))**\n",
        "\n",
        "Where:\n",
        "\n",
        "**H(S)** represents the entropy of a set S.\n",
        "**Σ** denotes the sum over all possible classes or values in the set S.\n",
        "**p_i** is the probability of an element belonging to class i (or having value i).\n",
        "**log₂** represents the base-2 logarithm.\n",
        "\n",
        "\n",
        "This formula measures the uncertainty or randomness in the set S.  A higher entropy value indicates greater uncertainty, while an entropy of 0 signifies a perfectly pure set (where all elements belong to the same class or have the same value).\n",
        "\n",
        "# Q5.What is Information Gain, and how is it used in Decision Trees\t?\n",
        "Ans:-Information Gain in Decision Trees\n",
        "Information gain is a crucial concept in decision tree algorithms. It quantifies the reduction in entropy achieved by partitioning a dataset based on a particular feature.  In simpler terms, it measures how much information we gain about the target variable by knowing the value of a specific feature.\n",
        "\n",
        "# Calculation:\n",
        "\n",
        "Information Gain (IG) = Entropy(parent) - [Weighted Average] * Entropy(children)\n",
        "\n",
        "# Where:\n",
        "\n",
        "* Entropy(parent): The entropy of the target variable in the original dataset (before the split).\n",
        "* Entropy(children): The entropy of the target variable in each subset created by the split.\n",
        "* Weighted Average:  The average of the entropies of the children, weighted by the proportion of instances in each child node.\n",
        "\n",
        "# Usage in Decision Trees:\n",
        "\n",
        "1. Feature Selection:  At each node of the decision tree, the algorithm calculates the information gain for every feature.\n",
        "2. Best Split: The feature with the highest information gain is selected as the splitting criterion for that node. This means that this feature provides the most information about the target variable, leading to the purest subsets possible.\n",
        "3. Recursion:  The process is then repeated recursively for each child node until a stopping criterion is met (e.g., maximum tree depth, minimum samples per leaf).\n",
        "\n",
        "# Q6.What is the difference between Gini Impurity and Entropy?\n",
        "Ans:-Gini Impurity and Entropy are both measures of impurity used in decision trees to determine the best split at each node.\n",
        "They both aim to quantify the homogeneity (or heterogeneity) of a set of data points.  While they achieve a similar goal, their mathematical formulations differ slightly, leading to some practical consequences:\n",
        "\n",
        "# Gini Impurity:\n",
        "* Formula: 1 - Σ(p_i)^2  where p_i is the probability of an element belonging to class i.\n",
        "* Focus:  Penalizes the presence of multiple classes in a node more heavily than entropy.  It gives more weight to splits that result in nodes where a single class dominates.\n",
        "* Computationally simpler: It involves squares and sums, making it faster to compute.\n",
        "* Less sensitive to small changes in class distribution: A small change in the class probabilities won't significantly affect the Gini impurity.\n",
        "\n",
        "# Entropy:\n",
        "* Formula: - Σ (p_i * log2(p_i))\n",
        "* Focus:  Measures uncertainty or randomness in a set. It emphasizes the randomness in the set.\n",
        "* Computationally more expensive: The logarithm calculation is slightly more complex.\n",
        "* More sensitive to small changes: A small change in probabilities leads to a bigger change in entropy.\n",
        "* Tends to produce slightly more balanced trees (splits are more evenly distributed).\n",
        "\n",
        "# Q7.What is the mathematical explanation behind Decision Trees?\n",
        "Ans:-\n",
        "from sklearn.tree import DecisionTreeClassifier\n",
        "from sklearn.model_selection import train_test_split\n",
        "from sklearn.datasets import load_iris # Example dataset\n",
        "\n",
        "# Load the Iris dataset\n",
        "iris = load_iris()\n",
        "X = iris.data  # Features\n",
        "y = iris.target # Target variable\n",
        "\n",
        "# Split the data into training and testing sets\n",
        "X_train, X_test, y_train, y_test = train_test_split(X, y, test_size=0.3, random_state=0)\n",
        "\n",
        "# Initialize a DecisionTreeClassifier (using Gini impurity by default)\n",
        "clf = DecisionTreeClassifier()\n",
        "\n",
        "# Train the classifier\n",
        "clf = clf.fit(X_train, y_train)\n",
        "\n",
        "# Make predictions\n",
        "y_pred = clf.predict(X_test)\n",
        "\n",
        "# Evaluate the model (example)\n",
        "from sklearn.metrics import accuracy_score\n",
        "accuracy = accuracy_score(y_test, y_pred)\n",
        "print(f\"Accuracy: {accuracy}\")\n",
        "\n",
        "\n",
        "# To use entropy, you can specify it as the criterion:\n",
        "clf_entropy = DecisionTreeClassifier(criterion=\"entropy\")\n",
        "clf_entropy = clf_entropy.fit(X_train, y_train)\n",
        "y_pred_entropy = clf_entropy.predict(X_test)\n",
        "accuracy_entropy = accuracy_score(y_test, y_pred_entropy)\n",
        "print(f\"Accuracy (Entropy): {accuracy_entropy}\")\n",
        "\n",
        "# Q8.What is Pre-Pruning in Decision Trees?\n",
        "Ans:-Pre-Pruning in Decision Trees\n",
        "Pre-pruning, also known as early stopping, is a technique used to prevent a decision tree from overfitting the training data.  It involves setting constraints or rules during the tree construction process to limit its growth.  Instead of letting the tree grow to its maximum depth and then pruning it back (post-pruning), pre-pruning stops the tree's growth early based on certain criteria.\n",
        "\n",
        "# Common pre-pruning methods:\n",
        "\n",
        "1. Maximum Depth: Limiting the maximum depth of the tree prevents it from becoming too complex.  A shallower tree is less likely to overfit, but might underfit if the depth is set too low.\n",
        "\n",
        "2. Minimum Samples per Split:  Setting a minimum number of samples required in a node to perform a split.  This prevents splits on very small subsets of data, which are more likely to represent noise rather than genuine patterns.\n",
        "\n",
        "3. Minimum Samples per Leaf: Setting a minimum number of samples required in a leaf node. This prevents the creation of leaf nodes with very few samples, making the tree more robust to outliers and noise.\n",
        "\n",
        "4. Minimum Impurity Decrease:  A split is only made if it decreases the impurity measure (e.g., Gini impurity or entropy) by at least a certain threshold.  This prevents unnecessary splits that provide only minimal improvement in purity.\n",
        "\n",
        "5. Maximum Number of Leaf Nodes:  Limits the total number of leaf nodes in the tree, preventing excessive branching.\n",
        "\n",
        "# Q9.What is Post-Pruning in Decision Trees?\n",
        "Ans:-Post-pruning, also known as backward pruning, is a technique used to reduce the complexity of a decision tree after it has been fully grown.  It involves removing subtrees or branches from a fully grown tree to improve its generalization performance and prevent overfitting.  The basic idea is to simplify the tree by replacing entire subtrees with leaf nodes, effectively \"pruning\" away parts of the tree that are not contributing significantly to its predictive accuracy.\n",
        "\n",
        "Here's how post-pruning generally works:\n",
        "\n",
        "1. **Grow a Full Tree:** First, a decision tree is grown to its maximum extent, without any restrictions on its depth or size.  This allows the tree to learn all possible patterns in the training data.\n",
        "\n",
        "2. **Evaluate Subtrees:**  The algorithm then evaluates the performance of each internal node and its corresponding subtree using a validation set (or through cross-validation).  This evaluation determines how much each subtree contributes to the overall accuracy.  Often, a cost-complexity measure is used to quantify the performance of a subtree.\n",
        "\n",
        "3. **Prune Subtrees:**  The algorithm iteratively removes subtrees that do not significantly improve the model's performance on the validation data.  Instead of the removed subtree, a leaf node is created, predicting the majority class in the subtree's training data.\n",
        "\n",
        "4. **Repeat:** The pruning process is repeated until a desired level of accuracy or a stopping criterion is reached.  Stopping criteria could include:\n",
        "    * A maximum number of pruning iterations\n",
        "    * A threshold on the improvement in performance\n",
        "    * A minimum size for the subtrees\n",
        "\n",
        "# Q10.What is the difference between Pre-Pruning and Post-Pruning?\n",
        "Ans:-Pre-pruning and post-pruning are two different strategies for controlling the complexity of decision trees and preventing overfitting.  Here's a comparison:\n",
        "\n",
        "# Pre-Pruning (Early Stopping)\n",
        "\n",
        "* How it works:  Imposes constraints *during* the tree-building process.  The algorithm stops growing the tree before it reaches its maximum size based on predefined criteria (e.g., maximum depth, minimum samples per leaf).\n",
        "# * Advantages:\n",
        "* Computationally less expensive:  Stops the algorithm early, reducing the time and resources needed for training.\n",
        "* Less prone to overfitting:  By limiting the tree's growth, pre-pruning directly addresses overfitting.\n",
        "\n",
        "# * Disadvantages:\n",
        "* May underfit if the stopping criteria are too strict:  The tree might not be complex enough to capture the true underlying patterns in the data, resulting in suboptimal performance.\n",
        "* Difficult to choose optimal parameters: Determining the best stopping criteria (e.g., depth, minimum samples) can be challenging and often requires experimentation or cross-validation.\n",
        "\n",
        "# Post-Pruning (Backward Pruning)\n",
        "\n",
        "* How it works:  The tree is first grown to its full extent, and *then* subtrees are removed or replaced with leaf nodes based on their impact on performance.  This usually involves a validation set or cross-validation to evaluate the performance of pruned subtrees.\n",
        "# * Advantages:\n",
        "* Less likely to underfit: The full tree is first constructed, allowing the algorithm to discover more complex relationships in the data.\n",
        "* More flexible:  Can fine-tune the tree more precisely by removing only the less relevant parts.\n",
        "\n",
        "# * Disadvantages:\n",
        "* Computationally more expensive:  The full tree must be grown first, which can be time-consuming, especially for large datasets.\n",
        "* More complex to implement: Post-pruning requires evaluation of various subtrees and validation sets.\n",
        "\n",
        "# Q11.What is a Decision Tree Regressor?\n",
        "Ans:-\n",
        "from sklearn.tree import DecisionTreeRegressor\n",
        "from sklearn.model_selection import train_test_split\n",
        "from sklearn.metrics import mean_squared_error\n",
        "import numpy as np\n",
        "\n",
        "# Sample data (replace with your own data)\n",
        "X = np.array([[1], [2], [3], [4], [5]])\n",
        "y = np.array([2, 4, 5, 4, 5])\n",
        "\n",
        "# Split data\n",
        "X_train, X_test, y_train, y_test = train_test_split(X, y, test_size=0.2, random_state=42)\n",
        "\n",
        "# Create and train the regressor\n",
        "regressor = DecisionTreeRegressor(random_state=0)\n",
        "regressor.fit(X_train, y_train)\n",
        "\n",
        "# Make predictions\n",
        "y_pred = regressor.predict(X_test)\n",
        "\n",
        "# Evaluate the model\n",
        "mse = mean_squared_error(y_test, y_pred)\n",
        "print(f\"Mean Squared Error: {mse}\")\n",
        "\n",
        "# Q12.What are the advantages and disadvantages of Decision Trees?\n",
        "Ans:-\n",
        "# Advantages and Disadvantages of Decision Trees\n",
        "# Advantages:\n",
        "\n",
        "1. Easy to Understand and Interpret: Decision trees are visually appealing and easy to understand, even for non-technical users. The rules and decisions are clear and transparent.\n",
        "2. Requires Little Data Preparation: Decision trees handle both numerical and categorical features well, and they often require less data preprocessing than other algorithms.  Missing values can often be handled without imputation.\n",
        "3. Can Handle Both Categorical and Numerical Data: Decision trees are versatile and can be used for both classification and regression tasks with minimal modifications.\n",
        "4. Non-parametric: Decision trees are non-parametric methods, which means they do not assume any underlying distribution for the data.  This makes them robust to outliers and non-linear relationships.\n",
        "5. White Box Model:  The reasoning behind a decision tree's predictions is easily traceable, allowing for insights into feature importance.\n",
        "6. Fast Predictions: Predictions are very fast because they involve traversing a tree structure.\n",
        "\n",
        "# Disadvantages:\n",
        "1. Prone to Overfitting: Decision trees can be very sensitive to noise in the data and may create overly complex trees that don't generalize well to unseen data.\n",
        "2. Instability: Small changes in the data can lead to large changes in the structure of the decision tree.  This instability can lead to different results for slightly different datasets.\n",
        "3. Biased towards Features with Many Categories:  Features with more categories may be unfairly favored by the algorithm, leading to biased trees.\n",
        "4. Can Create Complex Trees:  Decision trees can become very large and complex, making them difficult to interpret and visualize if not pruned effectively.\n",
        "5. Greedy Algorithm:  Decision trees use a greedy approach to build the tree, meaning they make the locally optimal choice at each step, without considering the potential impact on the overall structure.  This might lead to a suboptimal overall tree.\n",
        "\n",
        "# Q13.How does a Decision Tree handle missing values?\n",
        "Ans:-\n",
        "# Handling Missing Values in Decision Trees\n",
        "# Decision trees can handle missing values in a few ways:\n",
        "\n",
        "# 1. Surrogate Splits:\n",
        "- For a feature with missing values, the algorithm looks for other features that are highly correlated with it.\n",
        "- These correlated features are used as \"surrogate splitters\" when encountering missing values in the original feature.  If no good surrogate is found, the instance is typically assigned to the most common class or the majority class in the node.\n",
        "\n",
        "# 2. Imputation (Preprocessing):\n",
        "- Fill in missing values using a strategy like the mean, median, or mode of the non-missing values for a feature.  Alternatively use more sophisticated methods (KNN imputation, etc.).  In many implementations, the user can choose the imputation strategy.\n",
        "- This approach modifies the data before building the tree.\n",
        "\n",
        "# 3. Special Handling During Tree Construction:\n",
        "- Some implementations handle missing values directly during tree construction. They could split the data according to the non-missing values, assign the instances with missing values to the majority class in the subtree, or use a probabilistic approach.\n",
        "\n",
        "\n",
        "# Example using imputation with scikit-learn (as a preprocessing step)\n",
        "import numpy as np\n",
        "from sklearn.impute import SimpleImputer\n",
        "from sklearn.tree import DecisionTreeClassifier\n",
        "from sklearn.model_selection import train_test_split\n",
        "from sklearn.datasets import load_iris\n",
        "\n",
        "# Example with missing data\n",
        "X = np.array([[1, 2, np.nan], [4, 5, 6], [7, 8, 9], [10, np.nan, 12]])\n",
        "y = np.array([0, 1, 0, 1])\n",
        "\n",
        "# Impute missing values with the mean\n",
        "imputer = SimpleImputer(missing_values=np.nan, strategy='mean')\n",
        "X_imputed = imputer.fit_transform(X)\n",
        "\n",
        "# Split the data\n",
        "X_train, X_test, y_train, y_test = train_test_split(X_imputed, y, test_size=0.2, random_state=42)\n",
        "\n",
        "# Initialize and train the model\n",
        "clf = DecisionTreeClassifier()\n",
        "clf.fit(X_train,y_train)\n",
        "\n",
        "# Q14. How does a Decision Tree handle categorical features?\n",
        "Ans:- Handling Categorical Features in Decision Trees\n",
        "# Decision trees can handle categorical features directly.  There are several ways they do this:\n",
        "\n",
        "# 1. One-Hot Encoding:\n",
        "- Convert categorical features into numerical representations by creating binary (0 or 1) columns for each category.\n",
        "- This approach avoids imposing an order on the categories.  If you have 'color' feature with 'red', 'green', and 'blue' categories:\n",
        "- 'color_red' = 1, 'color_green' = 0, 'color_blue' = 0 (if the instance is red)\n",
        "- 'color_red' = 0, 'color_green' = 1, 'color_blue' = 0 (if the instance is green)\n",
        "- 'color_red' = 0, 'color_green' = 0, 'color_blue' = 1 (if the instance is blue)\n",
        "- It's commonly used with libraries like scikit-learn.  There is no need to pre-encode categories manually.\n",
        "\n",
        "# 2. Label Encoding (Ordinal Encoding):\n",
        "- Assigns a unique integer to each category.\n",
        "- This approach implies an order among the categories, which may or may not be appropriate depending on the feature.  For example:\n",
        "- 'low' = 0, 'medium' = 1, 'high' = 2\n",
        "- if categories do not have an inherent order, this can mislead the decision tree.\n",
        "- Not recommended for nominal (unordered) categorical features.\n",
        "\n",
        "# 3. Target Encoding (Mean Encoding):\n",
        "- Replaces each category with the average value of the target variable for that category.\n",
        "- Useful when the number of categories is large and the feature is predictive.\n",
        "\n",
        "# 4. Binary Encoding\n",
        "- A way to encode categorical features with fewer bits than one-hot encoding. Each unique category is assigned a unique binary representation.  Suitable when you have many unique categories.\n",
        "\n",
        "\n",
        "# Scikit-learn's DecisionTreeClassifier automatically handles these encodings for you internally.\n",
        "# Example: (using One-hot-like encoding internally)\n",
        "\n",
        "from sklearn.tree import DecisionTreeClassifier\n",
        "from sklearn.model_selection import train_test_split\n",
        "import pandas as pd\n",
        "import numpy as np\n",
        "\n",
        "# Create Sample Data (with a categorical feature 'color')\n",
        "data = {\n",
        "    'color': ['red', 'green', 'blue', 'red', 'green', 'blue', 'red', 'green'],\n",
        "    'size': [10, 12, 15, 11, 13, 16, 9, 14],\n",
        "    'target': [0, 1, 0, 0, 1, 1, 0, 1],  # Example target variable\n",
        "}\n",
        "df = pd.DataFrame(data)\n",
        "\n",
        "# Convert categorical features into numbers using pandas get_dummies (One-hot like)\n",
        "X = pd.get_dummies(df[['color', 'size']], columns=['color'], drop_first=True) # drop_first removes multicollinearity\n",
        "y = df['target']\n",
        "\n",
        "# Split the data\n",
        "X_train, X_test, y_train, y_test = train_test_split(X, y, test_size=0.2, random_state=42)\n",
        "\n",
        "# Train a Decision Tree Classifier\n",
        "clf = DecisionTreeClassifier()\n",
        "clf.fit(X_train, y_train)\n",
        "\n",
        "# Q15. What are some real-world applications of Decision Trees?\n",
        "Ans:-\n",
        "# Real-World Applications of Decision Trees.\n",
        "# 1. Medical Diagnosis:\n",
        "Decision trees can be used to diagnose diseases based on patient symptoms and medical history.  For example, a decision tree could be trained on data from patients with different heart conditions, and then used to predict the likelihood of a patient having a particular condition.\n",
        "\n",
        "# 2. Customer Churn Prediction:\n",
        "Telecom companies use decision trees to predict which customers are likely to switch to a different provider.  This allows them to take proactive steps to retain valuable customers.  Features used in the model could include call minutes, data usage, customer service interactions, etc.\n",
        "\n",
        "# 3. Fraud Detection:\n",
        "Banks and credit card companies employ decision trees to detect fraudulent transactions. The model would learn patterns from historical data and flag transactions that deviate significantly from normal behavior.\n",
        "\n",
        "# 4. Loan Approval:\n",
        "Financial institutions use decision trees to assess loan applications and determine creditworthiness. Features might include income, credit history, employment status, and debt-to-income ratio.\n",
        "\n",
        "# 5. Image Recognition:\n",
        "Decision trees can be used as part of a larger image recognition system.  They might classify an image based on initial features extracted from it, making it faster than complex deep learning methods.\n",
        "\n",
        "# 6. Risk Assessment:\n",
        "Insurance companies use decision trees to evaluate risks and determine insurance premiums.\n",
        "\n",
        "# 7. Customer Segmentation:\n",
        "Businesses use decision trees to segment customers into different groups based on their demographics, purchasing behavior, and other factors.  This helps tailor marketing campaigns and product recommendations.\n",
        "\n",
        "# 8. Recommender Systems:\n",
        "Decision trees can be used to recommend products or services to users based on their preferences and past behavior.  For example, recommending a movie or item based on other users with similar preferences.\n",
        "\n",
        "# 9. Machine Fault Diagnosis:\n",
        "In manufacturing, decision trees are used to diagnose faults in machines based on sensor data.  This allows maintenance to be performed before a major failure occurs.\n",
        "\n",
        "# 10. Credit Risk Scoring:\n",
        "Financial institutions can employ decision trees for more granular credit scoring, leading to more tailored credit terms and offers.\n"
      ],
      "metadata": {
        "id": "AupchewMp75s"
      },
      "execution_count": null,
      "outputs": []
    },
    {
      "cell_type": "markdown",
      "source": [
        "Practical"
      ],
      "metadata": {
        "id": "lkumSeIHwmV3"
      }
    },
    {
      "cell_type": "code",
      "source": [
        "# Q16.Write a Python program to train a Decision Tree Classifier on the Iris dataset and print the model accuracy.\n",
        "from sklearn.tree import DecisionTreeClassifier\n",
        "from sklearn.model_selection import train_test_split\n",
        "from sklearn.datasets import load_iris\n",
        "from sklearn.metrics import accuracy_score\n",
        "\n",
        "# Load the Iris dataset\n",
        "iris = load_iris()\n",
        "X = iris.data\n",
        "y = iris.target\n",
        "\n",
        "# Split the data into training and testing sets\n",
        "X_train, X_test, y_train, y_test = train_test_split(X, y, test_size=0.3, random_state=0)\n",
        "\n",
        "# Initialize a DecisionTreeClassifier\n",
        "clf = DecisionTreeClassifier()\n",
        "\n",
        "# Train the classifier\n",
        "clf = clf.fit(X_train, y_train)\n",
        "\n",
        "# Make predictions\n",
        "y_pred = clf.predict(X_test)\n",
        "\n",
        "# Evaluate the model\n",
        "accuracy = accuracy_score(y_test, y_pred)\n",
        "print(f\"Accuracy: {accuracy}\")\n"
      ],
      "metadata": {
        "colab": {
          "base_uri": "https://localhost:8080/"
        },
        "id": "-vaHoFR8wpRY",
        "outputId": "a29edcff-0b3b-418e-d8b5-cc8f05c86057"
      },
      "execution_count": null,
      "outputs": [
        {
          "output_type": "stream",
          "name": "stdout",
          "text": [
            "Accuracy: 0.9777777777777777\n"
          ]
        }
      ]
    },
    {
      "cell_type": "code",
      "source": [
        "# Q17.Write a Python program to train a Decision Tree Classifier using Gini Impurity as the criterion and print the feature importances\n",
        "# Initialize a DecisionTreeClassifier with Gini impurity\n",
        "clf_gini = DecisionTreeClassifier(criterion=\"gini\")\n",
        "\n",
        "# Train the classifier\n",
        "clf_gini = clf_gini.fit(X_train, y_train)\n",
        "\n",
        "# Print feature importances\n",
        "print(\"Feature Importances (Gini):\", clf_gini.feature_importances_)"
      ],
      "metadata": {
        "colab": {
          "base_uri": "https://localhost:8080/"
        },
        "id": "4fImKyUAxHka",
        "outputId": "19de04c3-cb5d-430c-d41f-22860d821661"
      },
      "execution_count": null,
      "outputs": [
        {
          "output_type": "stream",
          "name": "stdout",
          "text": [
            "Feature Importances (Gini): [0.         0.04300928 0.90006666 0.05692405]\n"
          ]
        }
      ]
    },
    {
      "cell_type": "code",
      "source": [
        "# Q18.Write a Python program to train a Decision Tree Classifier using Entropy as the splitting criterion and print the model accuracy\n",
        "\n",
        "# Initialize a DecisionTreeClassifier with entropy as the criterion\n",
        "clf_entropy = DecisionTreeClassifier(criterion=\"entropy\")\n",
        "\n",
        "# Train the classifier\n",
        "clf_entropy = clf_entropy.fit(X_train, y_train)\n",
        "\n",
        "# Make predictions\n",
        "y_pred_entropy = clf_entropy.predict(X_test)\n",
        "\n",
        "# Evaluate the model\n",
        "accuracy_entropy = accuracy_score(y_test, y_pred_entropy)\n",
        "print(f\"Accuracy (Entropy): {accuracy_entropy}\")"
      ],
      "metadata": {
        "colab": {
          "base_uri": "https://localhost:8080/"
        },
        "id": "O0fR5u9WxaqA",
        "outputId": "1dac97ae-a5f4-4446-bc75-5e455725204c"
      },
      "execution_count": null,
      "outputs": [
        {
          "output_type": "stream",
          "name": "stdout",
          "text": [
            "Accuracy (Entropy): 0.9777777777777777\n"
          ]
        }
      ]
    },
    {
      "cell_type": "code",
      "source": [
        "# Q19.Write a Python program to train a Decision Tree Regressor on a housing dataset and evaluate using Mean Squared Error (MSE)\n",
        "import numpy as np\n",
        "import pandas as pd\n",
        "from sklearn.datasets import fetch_california_housing\n",
        "from sklearn.model_selection import train_test_split\n",
        "from sklearn.tree import DecisionTreeRegressor\n",
        "from sklearn.metrics import mean_squared_error\n",
        "\n",
        "# Load the California housing dataset\n",
        "data = fetch_california_housing()\n",
        "X = pd.DataFrame(data.data, columns=data.feature_names)\n",
        "y = pd.Series(data.target)\n",
        "\n",
        "# Split the dataset into training and testing sets\n",
        "X_train, X_test, y_train, y_test = train_test_split(X, y, test_size=0.2, random_state=42)\n",
        "\n",
        "# Create a Decision Tree Regressor model\n",
        "model = DecisionTreeRegressor(random_state=42)\n",
        "\n",
        "# Train the model\n",
        "model.fit(X_train, y_train)\n",
        "\n",
        "# Make predictions on the test set\n",
        "y_pred = model.predict(X_test)\n",
        "\n",
        "# Calculate Mean Squared Error\n",
        "mse = mean_squared_error(y_test, y_pred)\n",
        "\n",
        "# Print the Mean Squared Error\n",
        "print(f'Mean Squared Error: {mse:.2f}')\n"
      ],
      "metadata": {
        "colab": {
          "base_uri": "https://localhost:8080/"
        },
        "id": "Vgh0tIF_xpHk",
        "outputId": "5bc6756e-9234-42af-f270-6e3224a3c25c"
      },
      "execution_count": null,
      "outputs": [
        {
          "output_type": "stream",
          "name": "stdout",
          "text": [
            "Mean Squared Error: 0.50\n"
          ]
        }
      ]
    },
    {
      "cell_type": "code",
      "source": [
        "# Q20.Write a Python program to train a Decision Tree Classifier and visualize the tree using graphviz.\n",
        "\n",
        "from sklearn.datasets import load_iris\n",
        "from sklearn.tree import DecisionTreeClassifier, export_graphviz\n",
        "import graphviz\n",
        "\n",
        "# Load dataset\n",
        "iris = load_iris()\n",
        "X, y = iris.data, iris.target\n",
        "\n",
        "# Train Decision Tree Classifier\n",
        "clf = DecisionTreeClassifier(random_state=0)\n",
        "clf.fit(X, y)\n",
        "\n",
        "# Export as DOT file\n",
        "dot_data = export_graphviz(\n",
        "    clf,\n",
        "    out_file=None,\n",
        "    feature_names=iris.feature_names,\n",
        "    class_names=iris.target_names,\n",
        "    filled=True,\n",
        "    rounded=True,\n",
        "    special_characters=True\n",
        ")\n",
        "\n",
        "# Visualize the tree using Graphviz\n",
        "graph = graphviz.Source(dot_data)\n",
        "graph.render(\"iris_tree\", format='png', cleanup=False)  # Saves the tree as iris_tree.png\n",
        "graph.view(\"iris_tree\")  # Opens the image\n"
      ],
      "metadata": {
        "colab": {
          "base_uri": "https://localhost:8080/",
          "height": 36
        },
        "id": "XfvQ74cmyNDv",
        "outputId": "dffb6ba9-0cc8-4928-abb7-553a739dc973"
      },
      "execution_count": null,
      "outputs": [
        {
          "output_type": "execute_result",
          "data": {
            "text/plain": [
              "'iris_tree.pdf'"
            ],
            "application/vnd.google.colaboratory.intrinsic+json": {
              "type": "string"
            }
          },
          "metadata": {},
          "execution_count": 7
        }
      ]
    },
    {
      "cell_type": "code",
      "source": [
        "# Q21.Write a Python program to train a Decision Tree Classifier with a maximum depth of 3 and compare its accuracy with a fully grown tree.\n",
        "from sklearn.tree import DecisionTreeClassifier\n",
        "from sklearn.model_selection import train_test_split\n",
        "from sklearn.datasets import load_iris\n",
        "from sklearn.metrics import accuracy_score\n",
        "\n",
        "# Load the Iris dataset\n",
        "iris = load_iris()\n",
        "X = iris.data\n",
        "y = iris.target\n",
        "\n",
        "# Split the data into training and testing sets\n",
        "X_train, X_test, y_train, y_test = train_test_split(X, y, test_size=0.3, random_state=0)\n",
        "\n",
        "# Train a fully grown Decision Tree Classifier\n",
        "clf_full = DecisionTreeClassifier()\n",
        "clf_full.fit(X_train, y_train)\n",
        "y_pred_full = clf_full.predict(X_test)\n",
        "accuracy_full = accuracy_score(y_test, y_pred_full)\n",
        "print(f\"Accuracy (Fully Grown Tree): {accuracy_full}\")\n",
        "\n",
        "# Train a Decision Tree Classifier with a maximum depth of 3\n",
        "clf_pruned = DecisionTreeClassifier(max_depth=3)\n",
        "clf_pruned.fit(X_train, y_train)\n",
        "y_pred_pruned = clf_pruned.predict(X_test)\n",
        "accuracy_pruned = accuracy_score(y_test, y_pred_pruned)\n",
        "print(f\"Accuracy (Pruned Tree - max_depth=3): {accuracy_pruned}\")"
      ],
      "metadata": {
        "id": "I8CZbyabytCo",
        "colab": {
          "base_uri": "https://localhost:8080/"
        },
        "outputId": "6beea7c0-0453-4df1-c346-134b4254ee47"
      },
      "execution_count": null,
      "outputs": [
        {
          "output_type": "stream",
          "name": "stdout",
          "text": [
            "Accuracy (Fully Grown Tree): 0.9777777777777777\n",
            "Accuracy (Pruned Tree - max_depth=3): 0.9777777777777777\n"
          ]
        }
      ]
    },
    {
      "cell_type": "code",
      "source": [
        "# Q22.Write a Python program to train a Decision Tree Classifier using min_samples_split=5 and compare its accuracy with a default tree.\n",
        "# Load the Iris dataset\n",
        "iris = load_iris()\n",
        "X = iris.data\n",
        "y = iris.target\n",
        "\n",
        "# Split the data into training and testing sets\n",
        "X_train, X_test, y_train, y_test = train_test_split(X, y, test_size=0.3, random_state=0)\n",
        "\n",
        "# Train a Decision Tree Classifier with min_samples_split=5\n",
        "clf_min_samples = DecisionTreeClassifier(min_samples_split=5)\n",
        "clf_min_samples.fit(X_train, y_train)\n",
        "y_pred_min_samples = clf_min_samples.predict(X_test)\n",
        "accuracy_min_samples = accuracy_score(y_test, y_pred_min_samples)\n",
        "print(f\"Accuracy (min_samples_split=5): {accuracy_min_samples}\")\n",
        "\n",
        "# Train a default Decision Tree Classifier\n",
        "clf_default = DecisionTreeClassifier()\n",
        "clf_default.fit(X_train, y_train)\n",
        "y_pred_default = clf_default.predict(X_test)\n",
        "accuracy_default = accuracy_score(y_test, y_pred_default)\n",
        "print(f\"Accuracy (Default): {accuracy_default}\")"
      ],
      "metadata": {
        "colab": {
          "base_uri": "https://localhost:8080/"
        },
        "id": "b3NDH2zVzNOc",
        "outputId": "c9abe596-c5bd-4a0c-c657-d93077076820"
      },
      "execution_count": null,
      "outputs": [
        {
          "output_type": "stream",
          "name": "stdout",
          "text": [
            "Accuracy (min_samples_split=5): 0.9777777777777777\n",
            "Accuracy (Default): 0.9777777777777777\n"
          ]
        }
      ]
    },
    {
      "cell_type": "code",
      "source": [
        "# Q23.Write a Python program to apply feature scaling before training a Decision Tree Classifier and compare its accuracy with unscaled data.\n",
        "from sklearn.tree import DecisionTreeClassifier\n",
        "from sklearn.model_selection import train_test_split\n",
        "from sklearn.datasets import load_iris\n",
        "from sklearn.metrics import accuracy_score\n",
        "from sklearn.preprocessing import StandardScaler\n",
        "\n",
        "# Load the Iris dataset\n",
        "iris = load_iris()\n",
        "X = iris.data\n",
        "y = iris.target\n",
        "\n",
        "# Split the data into training and testing sets\n",
        "X_train, X_test, y_train, y_test = train_test_split(X, y, test_size=0.3, random_state=0)\n",
        "\n",
        "# Train a Decision Tree Classifier without scaling\n",
        "clf_no_scaling = DecisionTreeClassifier()\n",
        "clf_no_scaling.fit(X_train, y_train)\n",
        "y_pred_no_scaling = clf_no_scaling.predict(X_test)\n",
        "accuracy_no_scaling = accuracy_score(y_test, y_pred_no_scaling)\n",
        "print(f\"Accuracy (No Scaling): {accuracy_no_scaling}\")\n",
        "\n",
        "# Apply feature scaling (StandardScaler)\n",
        "scaler = StandardScaler()\n",
        "X_train_scaled = scaler.fit_transform(X_train)\n",
        "X_test_scaled = scaler.transform(X_test)\n",
        "\n",
        "# Train a Decision Tree Classifier with scaled data\n",
        "clf_scaled = DecisionTreeClassifier()\n",
        "clf_scaled.fit(X_train_scaled, y_train)\n",
        "y_pred_scaled = clf_scaled.predict(X_test_scaled)\n",
        "accuracy_scaled = accuracy_score(y_test, y_pred_scaled)\n",
        "print(f\"Accuracy (With Scaling): {accuracy_scaled}\")"
      ],
      "metadata": {
        "colab": {
          "base_uri": "https://localhost:8080/"
        },
        "id": "YYZUVzl1zfHh",
        "outputId": "107e0436-316b-4f93-a554-85a168e5066d"
      },
      "execution_count": null,
      "outputs": [
        {
          "output_type": "stream",
          "name": "stdout",
          "text": [
            "Accuracy (No Scaling): 0.9777777777777777\n",
            "Accuracy (With Scaling): 0.9777777777777777\n"
          ]
        }
      ]
    },
    {
      "cell_type": "code",
      "source": [
        "# Q24.Write a Python program to train a Decision Tree Classifier using One-vs-Rest (OvR) strategy for multiclass classification.\n",
        "from sklearn.multiclass import OneVsRestClassifier\n",
        "\n",
        "# Load the Iris dataset\n",
        "iris = load_iris()\n",
        "X = iris.data\n",
        "y = iris.target\n",
        "\n",
        "# Split the data into training and testing sets\n",
        "X_train, X_test, y_train, y_test = train_test_split(X, y, test_size=0.3, random_state=0)\n",
        "\n",
        "# Initialize a DecisionTreeClassifier\n",
        "dtc = DecisionTreeClassifier()\n",
        "\n",
        "# Use OneVsRestClassifier with the DecisionTreeClassifier\n",
        "ovr_classifier = OneVsRestClassifier(dtc)\n",
        "\n",
        "# Train the OvR classifier\n",
        "ovr_classifier.fit(X_train, y_train)\n",
        "\n",
        "# Make predictions\n",
        "y_pred = ovr_classifier.predict(X_test)\n",
        "\n",
        "# Evaluate the model\n",
        "accuracy = accuracy_score(y_test, y_pred)\n",
        "print(f\"Accuracy (One-vs-Rest): {accuracy}\")"
      ],
      "metadata": {
        "colab": {
          "base_uri": "https://localhost:8080/"
        },
        "id": "NA-14L_7zxbH",
        "outputId": "7b03235f-7548-4ef9-e726-c2380fec08ad"
      },
      "execution_count": null,
      "outputs": [
        {
          "output_type": "stream",
          "name": "stdout",
          "text": [
            "Accuracy (One-vs-Rest): 0.9777777777777777\n"
          ]
        }
      ]
    },
    {
      "cell_type": "code",
      "source": [
        "# Q25. Write a Python program to train a Decision Tree Classifier and display the feature importance scores\n",
        "# Train the classifier\n",
        "clf = clf.fit(X_train, y_train)\n",
        "\n",
        "# Print feature importances\n",
        "print(\"Feature Importances:\", clf.feature_importances_)"
      ],
      "metadata": {
        "colab": {
          "base_uri": "https://localhost:8080/"
        },
        "id": "XztgNC4_0Bj5",
        "outputId": "066bf8a1-64d9-496b-be1c-cb94a42dc7a6"
      },
      "execution_count": null,
      "outputs": [
        {
          "output_type": "stream",
          "name": "stdout",
          "text": [
            "Feature Importances: [0.         0.02150464 0.39766951 0.58082584]\n"
          ]
        }
      ]
    },
    {
      "cell_type": "code",
      "source": [
        "# Q26.Write a Python program to train a Decision Tree Regressor with max_depth=5 and compare its performance with an unrestricted tree.\n",
        "import pandas as pd\n",
        "# Load the California housing dataset\n",
        "from sklearn.datasets import fetch_california_housing\n",
        "data = fetch_california_housing()\n",
        "X = pd.DataFrame(data.data, columns=data.feature_names)\n",
        "y = pd.Series(data.target)\n",
        "\n",
        "# Split the dataset into training and testing sets\n",
        "from sklearn.model_selection import train_test_split\n",
        "X_train, X_test, y_train, y_test = train_test_split(X, y, test_size=0.2, random_state=42)\n",
        "\n",
        "# Create a Decision Tree Regressor model with max_depth=5\n",
        "from sklearn.tree import DecisionTreeRegressor\n",
        "model_depth5 = DecisionTreeRegressor(max_depth=5, random_state=42)\n",
        "model_depth5.fit(X_train, y_train)\n",
        "y_pred_depth5 = model_depth5.predict(X_test)\n",
        "\n",
        "# Create a Decision Tree Regressor model with no depth restriction\n",
        "model_unrestricted = DecisionTreeRegressor(random_state=42)\n",
        "model_unrestricted.fit(X_train, y_train)\n",
        "y_pred_unrestricted = model_unrestricted.predict(X_test)\n",
        "\n",
        "# Evaluate both models using Mean Squared Error\n",
        "from sklearn.metrics import mean_squared_error\n",
        "mse_depth5 = mean_squared_error(y_test, y_pred_depth5)\n",
        "mse_unrestricted = mean_squared_error(y_test, y_pred_unrestricted)\n",
        "\n",
        "print(f'Mean Squared Error (max_depth=5): {mse_depth5:.2f}')\n",
        "print(f'Mean Squared Error (unrestricted): {mse_unrestricted:.2f}')\n"
      ],
      "metadata": {
        "colab": {
          "base_uri": "https://localhost:8080/"
        },
        "id": "W6OKEaHE0QYX",
        "outputId": "eb6eb87a-3218-4957-c79f-ac7f65fe6e1d"
      },
      "execution_count": null,
      "outputs": [
        {
          "output_type": "stream",
          "name": "stdout",
          "text": [
            "Mean Squared Error (max_depth=5): 0.52\n",
            "Mean Squared Error (unrestricted): 0.50\n"
          ]
        }
      ]
    },
    {
      "cell_type": "code",
      "source": [
        "# Q27.Write a Python program to train a Decision Tree Classifier, apply Cost Complexity Pruning (CCP), and visualize its effect on accuracy.\n",
        "import matplotlib.pyplot as plt\n",
        "\n",
        "# Load the Iris dataset\n",
        "iris = load_iris()\n",
        "X = iris.data\n",
        "y = iris.target\n",
        "\n",
        "# Split the data\n",
        "X_train, X_test, y_train, y_test = train_test_split(X, y, test_size=0.3, random_state=42)\n",
        "\n",
        "# Train a decision tree classifier\n",
        "clf = DecisionTreeClassifier(random_state=0)\n",
        "path = clf.cost_complexity_pruning_path(X_train, y_train)\n",
        "ccp_alphas, impurities = path.ccp_alphas, path.impurities\n",
        "\n",
        "# Train decision trees with different CCP alpha values\n",
        "clfs = []\n",
        "for ccp_alpha in ccp_alphas:\n",
        "    clf = DecisionTreeClassifier(random_state=0, ccp_alpha=ccp_alpha)\n",
        "    clf.fit(X_train, y_train)\n",
        "    clfs.append(clf)\n",
        "\n",
        "# Evaluate accuracy for each tree\n",
        "train_scores = [clf.score(X_train, y_train) for clf in clfs]\n",
        "test_scores = [clf.score(X_test, y_test) for clf in clfs]\n",
        "\n",
        "# Plot the accuracy vs. CCP alpha\n",
        "fig, ax = plt.subplots()\n",
        "ax.set_xlabel(\"alpha\")\n",
        "ax.set_ylabel(\"accuracy\")\n",
        "ax.set_title(\"Accuracy vs alpha for training and testing sets\")\n",
        "ax.plot(ccp_alphas, train_scores, marker='o', label=\"train\", drawstyle=\"steps-post\")\n",
        "ax.plot(ccp_alphas, test_scores, marker='o', label=\"test\", drawstyle=\"steps-post\")\n",
        "ax.legend()\n",
        "plt.show()"
      ],
      "metadata": {
        "colab": {
          "base_uri": "https://localhost:8080/",
          "height": 472
        },
        "id": "hY1sw3w_0iEG",
        "outputId": "da575ca6-9468-45d9-dfb9-5f8d4a35edb2"
      },
      "execution_count": null,
      "outputs": [
        {
          "output_type": "display_data",
          "data": {
            "text/plain": [
              "<Figure size 640x480 with 1 Axes>"
            ],
            "image/png": "[encoded data removed]"
          },
          "metadata": {}
        }
      ]
    },
    {
      "cell_type": "code",
      "source": [
        "# Q28.Write a Python program to train a Decision Tree Classifier and evaluate its performance using Precision, Recall, and F1-Score.\n",
        "from sklearn.metrics import precision_score, recall_score, f1_score\n",
        "\n",
        "# Assuming you have already trained a Decision Tree Classifier (clf) and made predictions (y_pred)\n",
        "# ... your existing code to train the model ...\n",
        "\n",
        "# Calculate precision, recall, and F1-score\n",
        "precision = precision_score(y_test, y_pred, average='weighted')  # Use 'weighted' for multiclass\n",
        "recall = recall_score(y_test, y_pred, average='weighted')\n",
        "f1 = f1_score(y_test, y_pred, average='weighted')\n",
        "\n",
        "print(f\"Precision: {precision}\")\n",
        "print(f\"Recall: {recall}\")\n",
        "print(f\"F1-Score: {f1}\")"
      ],
      "metadata": {
        "id": "KSlt1sXZ1lob",
        "colab": {
          "base_uri": "https://localhost:8080/"
        },
        "outputId": "862761da-963b-4ae6-a871-aa2dd0a4216a"
      },
      "execution_count": null,
      "outputs": [
        {
          "output_type": "stream",
          "name": "stdout",
          "text": [
            "Precision: 0.22875816993464054\n",
            "Recall: 0.2222222222222222\n",
            "F1-Score: 0.22361904761904763\n"
          ]
        }
      ]
    },
    {
      "cell_type": "code",
      "source": [
        "# Q29.Write a Python program to train a Decision Tree Classifier and visualize the confusion matrix using seaborn.\n",
        "\n",
        "import matplotlib.pyplot as plt\n",
        "import seaborn as sns\n",
        "from sklearn.metrics import confusion_matrix\n",
        "\n",
        "# Assuming you have already trained a Decision Tree Classifier (clf) and made predictions (y_pred)\n",
        "# ... your existing code to train the model ...\n",
        "\n",
        "# Create the confusion matrix\n",
        "cm = confusion_matrix(y_test, y_pred)\n",
        "\n",
        "# Visualize the confusion matrix using seaborn\n",
        "plt.figure(figsize=(8, 6))\n",
        "sns.heatmap(cm, annot=True, fmt=\"d\", cmap=\"Blues\",\n",
        "            xticklabels=iris.target_names, yticklabels=iris.target_names)\n",
        "plt.xlabel(\"Predicted\")\n",
        "plt.ylabel(\"True\")\n",
        "plt.title(\"Confusion Matrix\")\n",
        "plt.show()"
      ],
      "metadata": {
        "colab": {
          "base_uri": "https://localhost:8080/",
          "height": 564
        },
        "id": "l9zeChdc5ot0",
        "outputId": "1797a08a-7c6a-4b5f-ba6d-103ad6a1d5d7"
      },
      "execution_count": null,
      "outputs": [
        {
          "output_type": "display_data",
          "data": {
            "text/plain": [
              "<Figure size 800x600 with 2 Axes>"
            ],
            "image/png": "[encoded data removed]"
          },
          "metadata": {}
        }
      ]
    },
    {
      "cell_type": "code",
      "source": [
        "# Q30.Write a Python program to train a Decision Tree Classifier and use GridSearchCV to find the optimal values for max_depth and min_samples_split.\n",
        "from sklearn.model_selection import GridSearchCV\n",
        "\n",
        "# Define the parameter grid\n",
        "param_grid = {\n",
        "    'max_depth': [2, 3, 4, 5, 6],  # Example depth values\n",
        "    'min_samples_split': [2, 5, 10]  # Example minimum samples\n",
        "}\n",
        "\n",
        "# Create a Decision Tree Classifier\n",
        "dtc = DecisionTreeClassifier()\n",
        "\n",
        "# Create GridSearchCV object\n",
        "grid_search = GridSearchCV(estimator=dtc, param_grid=param_grid, cv=5, scoring='accuracy') # 5-fold cross-validation\n",
        "\n",
        "# Fit the grid search to the data\n",
        "grid_search.fit(X_train, y_train)\n",
        "\n",
        "# Print the best parameters and best score\n",
        "print(\"Best Parameters:\", grid_search.best_params_)\n",
        "print(\"Best Score:\", grid_search.best_score_)\n",
        "\n",
        "# Get the best model\n",
        "best_dtc = grid_search.best_estimator_\n",
        "\n",
        "# Evaluate the best model on the test set\n",
        "accuracy = best_dtc.score(X_test, y_test)\n",
        "print(f\"Accuracy on test set with best parameters: {accuracy}\")\n"
      ],
      "metadata": {
        "colab": {
          "base_uri": "https://localhost:8080/"
        },
        "id": "4vtA1F2a53C-",
        "outputId": "a12c705e-b467-4fcb-add7-de778a796a37"
      },
      "execution_count": null,
      "outputs": [
        {
          "output_type": "stream",
          "name": "stdout",
          "text": [
            "Best Parameters: {'max_depth': 4, 'min_samples_split': 10}\n",
            "Best Score: 0.9428571428571428\n",
            "Accuracy on test set with best parameters: 1.0\n"
          ]
        }
      ]
    }
  ]
}